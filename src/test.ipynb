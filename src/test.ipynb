{
 "cells": [
  {
   "metadata": {
    "ExecuteTime": {
     "end_time": "2025-02-27T16:56:27.440571Z",
     "start_time": "2025-02-27T16:56:27.331870Z"
    }
   },
   "cell_type": "code",
   "source": "import numpy as np",
   "id": "4b823f46dc5b9915",
   "outputs": [],
   "execution_count": 13
  },
  {
   "metadata": {},
   "cell_type": "markdown",
   "source": "## Прогнозирование с одним входом",
   "id": "8e7888bd7c939bff"
  },
  {
   "metadata": {
    "ExecuteTime": {
     "end_time": "2025-02-27T16:56:27.445296Z",
     "start_time": "2025-02-27T16:56:27.443622Z"
    }
   },
   "cell_type": "code",
   "source": [
    "def neural_network(input_: float, weight: float) -> float:\n",
    "    return input_ * weight"
   ],
   "id": "initial_id",
   "outputs": [],
   "execution_count": 14
  },
  {
   "cell_type": "code",
   "id": "db5b06d34a361886",
   "metadata": {
    "ExecuteTime": {
     "end_time": "2025-02-27T16:56:27.450962Z",
     "start_time": "2025-02-27T16:56:27.449464Z"
    }
   },
   "source": [
    "weight = 0.1\n",
    "number_of_toes = [8.5, 9.5, 10, 9]\n",
    "incoming = number_of_toes[0]\n",
    "print(neural_network(incoming, weight))"
   ],
   "outputs": [
    {
     "name": "stdout",
     "output_type": "stream",
     "text": [
      "0.8500000000000001\n"
     ]
    }
   ],
   "execution_count": 15
  },
  {
   "metadata": {},
   "cell_type": "markdown",
   "source": "## **Прогнозирование с несколькими входами**",
   "id": "514ed9fbce602165"
  },
  {
   "cell_type": "code",
   "id": "ab3183bddbb69bde",
   "metadata": {
    "ExecuteTime": {
     "end_time": "2025-02-27T16:56:27.465026Z",
     "start_time": "2025-02-27T16:56:27.463274Z"
    }
   },
   "source": [
    "def weight_sum(row: list[float], weights: list[float]) -> float:\n",
    "    assert len(row) == len(weights), 'Длина передаваемых массивов должна быть эквивалентной'\n",
    "\n",
    "    result = 0\n",
    "    for feature, w in zip(row, weights):\n",
    "        result += feature * w\n",
    "\n",
    "    return result"
   ],
   "outputs": [],
   "execution_count": 16
  },
  {
   "cell_type": "code",
   "id": "2cb0dd59270b2e1f",
   "metadata": {
    "ExecuteTime": {
     "end_time": "2025-02-27T16:56:27.472912Z",
     "start_time": "2025-02-27T16:56:27.471506Z"
    }
   },
   "source": [
    "def multi_nural_network(inputs: list[float], weights: list[float]) -> float:\n",
    "    return weight_sum(inputs, weights)"
   ],
   "outputs": [],
   "execution_count": 17
  },
  {
   "cell_type": "code",
   "id": "3587ee39-043f-43ce-878c-7c43d12670ea",
   "metadata": {
    "ExecuteTime": {
     "end_time": "2025-02-27T16:56:27.477794Z",
     "start_time": "2025-02-27T16:56:27.476136Z"
    }
   },
   "source": [
    "weights = [.1, .2, 0]\n",
    "toes = [8.5, 9.5, 9.9, 9.0]\n",
    "wlrec = [0.65, 0.8, 0.8, 0.9]\n",
    "nfans = [1.2, 1.3, 0.5, 1.0]\n",
    "incoming2 = [toes[0], wlrec[0], nfans[0]]\n",
    "print(multi_nural_network(incoming2, weights))"
   ],
   "outputs": [
    {
     "name": "stdout",
     "output_type": "stream",
     "text": [
      "0.9800000000000001\n"
     ]
    }
   ],
   "execution_count": 18
  },
  {
   "metadata": {},
   "cell_type": "markdown",
   "source": "## **Операции над векторами**",
   "id": "d2908a856cdf76fb"
  },
  {
   "metadata": {
    "ExecuteTime": {
     "end_time": "2025-02-27T16:56:27.485030Z",
     "start_time": "2025-02-27T16:56:27.483490Z"
    }
   },
   "cell_type": "code",
   "source": [
    "def elementwise_mul(vec_a: list[float], vec_b: list[float]) -> list[float]:\n",
    "    assert len(vec_a) == len(vec_b)\n",
    "    result = []\n",
    "    for a, b in zip(vec_a, vec_b):\n",
    "        result.append(a * b)\n",
    "\n",
    "    return result"
   ],
   "id": "81dc1a532b0fa51f",
   "outputs": [],
   "execution_count": 19
  },
  {
   "metadata": {
    "ExecuteTime": {
     "end_time": "2025-02-27T16:56:27.493072Z",
     "start_time": "2025-02-27T16:56:27.491576Z"
    }
   },
   "cell_type": "code",
   "source": [
    "def np_elementwise_mul(vec_a: list[float], vec_b: list[float]) -> list[float]:\n",
    "    v_a = np.array(vec_a)\n",
    "    v_b = np.array(vec_b)\n",
    "    return v_a * v_b"
   ],
   "id": "181a191b1221c497",
   "outputs": [],
   "execution_count": 20
  },
  {
   "metadata": {
    "ExecuteTime": {
     "end_time": "2025-02-27T16:57:27.868528Z",
     "start_time": "2025-02-27T16:57:27.865594Z"
    }
   },
   "cell_type": "code",
   "source": [
    "print('elementwise_mul', elementwise_mul(weights, incoming2))\n",
    "print('np_elementwise_mul', np_elementwise_mul(weights, incoming2))\n",
    "print(elementwise_mul(weights, incoming2) == np_elementwise_mul(weights, incoming2))"
   ],
   "id": "5c6c97a18e5a7ae4",
   "outputs": [
    {
     "name": "stdout",
     "output_type": "stream",
     "text": [
      "elementwise_mul [0.8500000000000001, 0.13, 0.0]\n",
      "np_elementwise_mul [0.85 0.13 0.  ]\n",
      "[ True  True  True]\n"
     ]
    }
   ],
   "execution_count": 22
  },
  {
   "metadata": {
    "ExecuteTime": {
     "end_time": "2025-02-27T16:56:27.504231Z",
     "start_time": "2025-02-27T16:56:27.503071Z"
    }
   },
   "cell_type": "code",
   "source": "",
   "id": "85db8969c76310cf",
   "outputs": [],
   "execution_count": null
  }
 ],
 "metadata": {
  "kernelspec": {
   "display_name": "dl_project_venv",
   "language": "python",
   "name": "dl_project_venv"
  },
  "language_info": {
   "codemirror_mode": {
    "name": "ipython",
    "version": 3
   },
   "file_extension": ".py",
   "mimetype": "text/x-python",
   "name": "python",
   "nbconvert_exporter": "python",
   "pygments_lexer": "ipython3",
   "version": "3.13.2"
  }
 },
 "nbformat": 4,
 "nbformat_minor": 5
}
