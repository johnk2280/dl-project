{
 "cells": [
  {
   "metadata": {
    "ExecuteTime": {
     "end_time": "2025-02-27T17:17:30.621734Z",
     "start_time": "2025-02-27T17:17:30.619638Z"
    }
   },
   "cell_type": "code",
   "source": "import numpy as np",
   "id": "4b823f46dc5b9915",
   "outputs": [],
   "execution_count": 33
  },
  {
   "metadata": {},
   "cell_type": "markdown",
   "source": "## Прогнозирование с одним входом",
   "id": "8e7888bd7c939bff"
  },
  {
   "metadata": {
    "ExecuteTime": {
     "end_time": "2025-02-27T17:17:30.632661Z",
     "start_time": "2025-02-27T17:17:30.630778Z"
    }
   },
   "cell_type": "code",
   "source": [
    "def neural_network(input_: float, weight: float) -> float:\n",
    "    return input_ * weight"
   ],
   "id": "initial_id",
   "outputs": [],
   "execution_count": 34
  },
  {
   "cell_type": "code",
   "id": "db5b06d34a361886",
   "metadata": {
    "ExecuteTime": {
     "end_time": "2025-02-27T17:17:30.638505Z",
     "start_time": "2025-02-27T17:17:30.636517Z"
    }
   },
   "source": [
    "weight = 0.1\n",
    "number_of_toes = [8.5, 9.5, 10, 9]\n",
    "incoming = number_of_toes[0]\n",
    "print(neural_network(incoming, weight))"
   ],
   "outputs": [
    {
     "name": "stdout",
     "output_type": "stream",
     "text": [
      "0.8500000000000001\n"
     ]
    }
   ],
   "execution_count": 35
  },
  {
   "metadata": {},
   "cell_type": "markdown",
   "source": "## **Прогнозирование с несколькими входами**",
   "id": "514ed9fbce602165"
  },
  {
   "cell_type": "code",
   "id": "ab3183bddbb69bde",
   "metadata": {
    "ExecuteTime": {
     "end_time": "2025-02-27T17:17:30.649208Z",
     "start_time": "2025-02-27T17:17:30.647438Z"
    }
   },
   "source": [
    "def weight_sum(row: list[float], weights: list[float]) -> float:\n",
    "    assert len(row) == len(weights), 'Длина передаваемых массивов должна быть эквивалентной'\n",
    "\n",
    "    result = 0\n",
    "    for feature, w in zip(row, weights):\n",
    "        result += feature * w\n",
    "\n",
    "    return result"
   ],
   "outputs": [],
   "execution_count": 36
  },
  {
   "cell_type": "code",
   "id": "2cb0dd59270b2e1f",
   "metadata": {
    "ExecuteTime": {
     "end_time": "2025-02-27T17:17:30.657675Z",
     "start_time": "2025-02-27T17:17:30.656255Z"
    }
   },
   "source": [
    "def multi_nural_network(inputs: list[float], weights: list[float]) -> float:\n",
    "    return weight_sum(inputs, weights)"
   ],
   "outputs": [],
   "execution_count": 37
  },
  {
   "cell_type": "code",
   "id": "3587ee39-043f-43ce-878c-7c43d12670ea",
   "metadata": {
    "ExecuteTime": {
     "end_time": "2025-02-27T17:17:30.662571Z",
     "start_time": "2025-02-27T17:17:30.660664Z"
    }
   },
   "source": [
    "weights = [.1, .2, 0]\n",
    "toes = [8.5, 9.5, 9.9, 9.0]\n",
    "wlrec = [0.65, 0.8, 0.8, 0.9]\n",
    "nfans = [1.2, 1.3, 0.5, 1.0]\n",
    "incoming2 = [toes[0], wlrec[0], nfans[0]]\n",
    "print(multi_nural_network(incoming2, weights))"
   ],
   "outputs": [
    {
     "name": "stdout",
     "output_type": "stream",
     "text": [
      "0.9800000000000001\n"
     ]
    }
   ],
   "execution_count": 38
  },
  {
   "metadata": {},
   "cell_type": "markdown",
   "source": "## **Операции над векторами**",
   "id": "d2908a856cdf76fb"
  },
  {
   "metadata": {},
   "cell_type": "markdown",
   "source": "### Поэлементное умножение",
   "id": "862f96668afe50c6"
  },
  {
   "metadata": {
    "ExecuteTime": {
     "end_time": "2025-02-27T17:17:30.671739Z",
     "start_time": "2025-02-27T17:17:30.669941Z"
    }
   },
   "cell_type": "code",
   "source": [
    "def elementwise_mul(vec_a: list[float], vec_b: list[float]) -> list[float]:\n",
    "    assert len(vec_a) == len(vec_b)\n",
    "    result = []\n",
    "    for a, b in zip(vec_a, vec_b):\n",
    "        result.append(a * b)\n",
    "\n",
    "    return result"
   ],
   "id": "81dc1a532b0fa51f",
   "outputs": [],
   "execution_count": 39
  },
  {
   "metadata": {
    "ExecuteTime": {
     "end_time": "2025-02-27T17:17:30.676897Z",
     "start_time": "2025-02-27T17:17:30.675489Z"
    }
   },
   "cell_type": "code",
   "source": [
    "def np_elementwise_mul(vec_a: list[float], vec_b: list[float]) -> list[float]:\n",
    "    v_a = np.array(vec_a)\n",
    "    v_b = np.array(vec_b)\n",
    "    return v_a * v_b"
   ],
   "id": "181a191b1221c497",
   "outputs": [],
   "execution_count": 40
  },
  {
   "metadata": {
    "ExecuteTime": {
     "end_time": "2025-02-27T17:17:30.681967Z",
     "start_time": "2025-02-27T17:17:30.680278Z"
    }
   },
   "cell_type": "code",
   "source": [
    "print('elementwise_mul', elementwise_mul(weights, incoming2))\n",
    "print('np_elementwise_mul', np_elementwise_mul(weights, incoming2))\n",
    "print(elementwise_mul(weights, incoming2) == np_elementwise_mul(weights, incoming2))"
   ],
   "id": "5c6c97a18e5a7ae4",
   "outputs": [
    {
     "name": "stdout",
     "output_type": "stream",
     "text": [
      "elementwise_mul [0.8500000000000001, 0.13, 0.0]\n",
      "np_elementwise_mul [0.85 0.13 0.  ]\n",
      "[ True  True  True]\n"
     ]
    }
   ],
   "execution_count": 41
  },
  {
   "metadata": {},
   "cell_type": "markdown",
   "source": "###  Поэлементное сложение",
   "id": "150ca786a6701afe"
  },
  {
   "metadata": {
    "ExecuteTime": {
     "end_time": "2025-02-27T17:17:30.693983Z",
     "start_time": "2025-02-27T17:17:30.692372Z"
    }
   },
   "cell_type": "code",
   "source": [
    "def elementwise_sum(vec_a: list[float], vec_b: list[float]) -> list[float]:\n",
    "    assert len(vec_a) == len(vec_b)\n",
    "    result = []\n",
    "    for a, b in zip(vec_a, vec_b):\n",
    "        result.append(a + b)\n",
    "\n",
    "    return result"
   ],
   "id": "62f5e1ed6500f155",
   "outputs": [],
   "execution_count": 42
  },
  {
   "metadata": {
    "ExecuteTime": {
     "end_time": "2025-02-27T17:17:30.697299Z",
     "start_time": "2025-02-27T17:17:30.695782Z"
    }
   },
   "cell_type": "code",
   "source": [
    "def np_elementwise_sum(vec_a: list[float], vec_b: list[float]) -> list[float]:\n",
    "    v_a = np.array(vec_a)\n",
    "    v_b = np.array(vec_b)\n",
    "    return v_a + v_b"
   ],
   "id": "5562145ca93b7335",
   "outputs": [],
   "execution_count": 43
  },
  {
   "metadata": {
    "ExecuteTime": {
     "end_time": "2025-02-27T17:17:30.702085Z",
     "start_time": "2025-02-27T17:17:30.700509Z"
    }
   },
   "cell_type": "code",
   "source": [
    "print('elementwise_sum', elementwise_sum(weights, incoming2))\n",
    "print('np_elementwise_sum', np_elementwise_sum(weights, incoming2))\n",
    "print(elementwise_sum(weights, incoming2) == np_elementwise_sum(weights, incoming2))"
   ],
   "id": "6622d2ccc6969180",
   "outputs": [
    {
     "name": "stdout",
     "output_type": "stream",
     "text": [
      "elementwise_sum [8.6, 0.8500000000000001, 1.2]\n",
      "np_elementwise_sum [8.6  0.85 1.2 ]\n",
      "[ True  True  True]\n"
     ]
    }
   ],
   "execution_count": 44
  },
  {
   "metadata": {
    "ExecuteTime": {
     "end_time": "2025-02-27T17:17:30.710941Z",
     "start_time": "2025-02-27T17:17:30.709564Z"
    }
   },
   "cell_type": "code",
   "source": [
    "def vector_sum(vec: list[float]) -> float:\n",
    "    return sum(vec)"
   ],
   "id": "6bcdcd70242765e",
   "outputs": [],
   "execution_count": 45
  },
  {
   "metadata": {
    "ExecuteTime": {
     "end_time": "2025-02-27T17:17:30.716849Z",
     "start_time": "2025-02-27T17:17:30.715376Z"
    }
   },
   "cell_type": "code",
   "source": [
    "def vector_average(vec: list[float]) -> float:\n",
    "    return vector_sum(vec) / len(vec)"
   ],
   "id": "dcc5141397f3becf",
   "outputs": [],
   "execution_count": 46
  },
  {
   "metadata": {
    "ExecuteTime": {
     "end_time": "2025-02-27T17:17:30.723861Z",
     "start_time": "2025-02-27T17:17:30.722515Z"
    }
   },
   "cell_type": "code",
   "source": [
    "def np_vector_sum(vec: list[float]) -> float:\n",
    "    return np.sum(vec)"
   ],
   "id": "a6442937fdb974b1",
   "outputs": [],
   "execution_count": 47
  },
  {
   "metadata": {
    "ExecuteTime": {
     "end_time": "2025-02-27T17:17:30.727972Z",
     "start_time": "2025-02-27T17:17:30.726644Z"
    }
   },
   "cell_type": "code",
   "source": [
    "def np_vector_average(vec: list[float]) -> float | np.floating:\n",
    "    return np.average(vec)"
   ],
   "id": "d8ba0b12b23e8a34",
   "outputs": [],
   "execution_count": 48
  },
  {
   "metadata": {
    "ExecuteTime": {
     "end_time": "2025-02-27T17:17:30.787094Z",
     "start_time": "2025-02-27T17:17:30.785130Z"
    }
   },
   "cell_type": "code",
   "source": [
    "print('vector_sum', vector_sum(incoming2))\n",
    "print('np_vector_sum', np_vector_sum(incoming2))\n",
    "print(vector_sum(incoming2) == np_vector_sum(incoming2))"
   ],
   "id": "c07fc6a56a409c39",
   "outputs": [
    {
     "name": "stdout",
     "output_type": "stream",
     "text": [
      "vector_sum 10.35\n",
      "np_vector_sum 10.35\n",
      "True\n"
     ]
    }
   ],
   "execution_count": 49
  },
  {
   "metadata": {
    "ExecuteTime": {
     "end_time": "2025-02-27T17:17:30.857839Z",
     "start_time": "2025-02-27T17:17:30.855975Z"
    }
   },
   "cell_type": "code",
   "source": [
    "print('vector_average', vector_average(incoming2))\n",
    "print('np_vector_average', np_vector_average(incoming2))\n",
    "print(vector_average(incoming2) == np_vector_average(incoming2))"
   ],
   "id": "b5a35bde375b439d",
   "outputs": [
    {
     "name": "stdout",
     "output_type": "stream",
     "text": [
      "vector_average 3.4499999999999997\n",
      "np_vector_average 3.4499999999999997\n",
      "True\n"
     ]
    }
   ],
   "execution_count": 50
  },
  {
   "metadata": {
    "ExecuteTime": {
     "end_time": "2025-02-27T17:19:46.066232Z",
     "start_time": "2025-02-27T17:19:46.063713Z"
    }
   },
   "cell_type": "code",
   "source": [
    "def dot_product(vec_a: list[float], vec_b: list[float]) -> float:\n",
    "    return vector_sum(elementwise_mul(vec_a, vec_b))"
   ],
   "id": "d0723b905835e915",
   "outputs": [],
   "execution_count": 51
  },
  {
   "metadata": {
    "ExecuteTime": {
     "end_time": "2025-02-27T17:23:48.951698Z",
     "start_time": "2025-02-27T17:23:48.948855Z"
    }
   },
   "cell_type": "code",
   "source": [
    "print('dot_product', dot_product(weights, incoming2))\n",
    "print('np.dot', np.array(weights).dot(np.array(incoming2)))\n",
    "print(np.array(dot_product(weights, incoming2)) == np.array(weights).dot(np.array(incoming2)))"
   ],
   "id": "8b4621381ae73660",
   "outputs": [
    {
     "name": "stdout",
     "output_type": "stream",
     "text": [
      "dot_product 0.9800000000000001\n",
      "np.dot 0.9800000000000001\n",
      "True\n"
     ]
    }
   ],
   "execution_count": 55
  },
  {
   "metadata": {},
   "cell_type": "code",
   "outputs": [],
   "execution_count": null,
   "source": "",
   "id": "bb7a7e61dcbe00"
  }
 ],
 "metadata": {
  "kernelspec": {
   "display_name": "dl_project_venv",
   "language": "python",
   "name": "dl_project_venv"
  },
  "language_info": {
   "codemirror_mode": {
    "name": "ipython",
    "version": 3
   },
   "file_extension": ".py",
   "mimetype": "text/x-python",
   "name": "python",
   "nbconvert_exporter": "python",
   "pygments_lexer": "ipython3",
   "version": "3.13.2"
  }
 },
 "nbformat": 4,
 "nbformat_minor": 5
}
