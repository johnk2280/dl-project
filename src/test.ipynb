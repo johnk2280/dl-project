{
 "cells": [
  {
   "cell_type": "code",
   "id": "initial_id",
   "metadata": {
    "ExecuteTime": {
     "end_time": "2025-02-26T16:54:07.906925Z",
     "start_time": "2025-02-26T16:54:07.904360Z"
    }
   },
   "source": [
    "def neural_network(input_: float, weight: float) -> float:\n",
    "    return input_ * weight"
   ],
   "outputs": [],
   "execution_count": 5
  },
  {
   "cell_type": "code",
   "id": "db5b06d34a361886",
   "metadata": {
    "ExecuteTime": {
     "end_time": "2025-02-26T16:54:07.919782Z",
     "start_time": "2025-02-26T16:54:07.917561Z"
    }
   },
   "source": [
    "weight = 0.1\n",
    "number_of_toes = [8.5, 9.5, 10, 9]\n",
    "incoming = number_of_toes[0]\n",
    "print(neural_network(incoming, weight))"
   ],
   "outputs": [
    {
     "name": "stdout",
     "output_type": "stream",
     "text": [
      "0.8500000000000001\n"
     ]
    }
   ],
   "execution_count": 6
  },
  {
   "cell_type": "code",
   "id": "ab3183bddbb69bde",
   "metadata": {
    "ExecuteTime": {
     "end_time": "2025-02-26T16:54:07.937103Z",
     "start_time": "2025-02-26T16:54:07.934959Z"
    }
   },
   "source": [
    "def weight_sum(row: list[float], weights: list[float]) -> float:\n",
    "    assert len(row) == len(weights), 'Длина передаваемых массивов должна быть эквивалентной'\n",
    "\n",
    "    result = 0\n",
    "    for feature, w in zip(row, weights):\n",
    "        result += feature * w\n",
    "\n",
    "    return result"
   ],
   "outputs": [],
   "execution_count": 7
  },
  {
   "cell_type": "code",
   "id": "2cb0dd59270b2e1f",
   "metadata": {
    "ExecuteTime": {
     "end_time": "2025-02-26T16:54:07.947081Z",
     "start_time": "2025-02-26T16:54:07.945367Z"
    }
   },
   "source": [
    "def multi_nural_network(inputs: list[float], weights: list[float]) -> float:\n",
    "    return weight_sum(inputs, weights)"
   ],
   "outputs": [],
   "execution_count": 8
  },
  {
   "cell_type": "code",
   "id": "3587ee39-043f-43ce-878c-7c43d12670ea",
   "metadata": {
    "ExecuteTime": {
     "end_time": "2025-02-26T16:54:07.952538Z",
     "start_time": "2025-02-26T16:54:07.950712Z"
    }
   },
   "source": [
    "weights = [.1, .2, 0]\n",
    "toes = [8.5, 9.5, 9.9, 9.0]\n",
    "wlrec = [0.65, 0.8, 0.8, 0.9]\n",
    "nfans = [1.2, 1.3, 0.5, 1.0]\n",
    "incoming2 = [toes[0], wlrec[0], nfans[0]]\n",
    "print(multi_nural_network(incoming2, weights))"
   ],
   "outputs": [
    {
     "name": "stdout",
     "output_type": "stream",
     "text": [
      "0.9800000000000001\n"
     ]
    }
   ],
   "execution_count": 9
  },
  {
   "metadata": {
    "ExecuteTime": {
     "end_time": "2025-02-26T16:54:07.961133Z",
     "start_time": "2025-02-26T16:54:07.959965Z"
    }
   },
   "cell_type": "code",
   "source": "",
   "id": "ed31cc3b49feb0a9",
   "outputs": [],
   "execution_count": null
  }
 ],
 "metadata": {
  "kernelspec": {
   "display_name": "dl_project_venv",
   "language": "python",
   "name": "dl_project_venv"
  },
  "language_info": {
   "codemirror_mode": {
    "name": "ipython",
    "version": 3
   },
   "file_extension": ".py",
   "mimetype": "text/x-python",
   "name": "python",
   "nbconvert_exporter": "python",
   "pygments_lexer": "ipython3",
   "version": "3.13.2"
  }
 },
 "nbformat": 4,
 "nbformat_minor": 5
}
